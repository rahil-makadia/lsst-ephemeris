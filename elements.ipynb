{
 "cells": [
  {
   "cell_type": "markdown",
   "metadata": {},
   "source": [
    "# Orbital element conversion with GRSS between cometary and cartesian coordinates"
   ]
  },
  {
   "cell_type": "code",
   "execution_count": 1,
   "metadata": {},
   "outputs": [],
   "source": [
    "import numpy as np\n",
    "np.set_printoptions(linewidth=100)\n",
    "\n",
    "from grss import prop, fit"
   ]
  },
  {
   "cell_type": "code",
   "execution_count": 2,
   "metadata": {},
   "outputs": [],
   "source": [
    "# Specify body and get orbit from SBDB\n",
    "body_id = '99942'\n",
    "orbit, cov, nongrav_info = fit.get_sbdb_info(body_id)"
   ]
  },
  {
   "cell_type": "code",
   "execution_count": 3,
   "metadata": {},
   "outputs": [
    {
     "name": "stdout",
     "output_type": "stream",
     "text": [
      "Heliocentric ecliptic cometary elements: [1.91521689e-01 7.45827048e-01 5.91005394e+04 3.56115108e+00 2.21049531e+00 5.82372968e-02]\n"
     ]
    }
   ],
   "source": [
    "# GRSS uses MJD times and radian angles for orbit input\n",
    "t0 = orbit['t']\n",
    "e = orbit['e']\n",
    "q = orbit['q']\n",
    "tp = orbit['tp']\n",
    "om = orbit['om']\n",
    "w = orbit['w']\n",
    "i = orbit['i']\n",
    "com_elems = np.array([e, q, tp, om, w, i])\n",
    "print(f'Heliocentric ecliptic cometary elements: {com_elems}')"
   ]
  },
  {
   "cell_type": "code",
   "execution_count": 4,
   "metadata": {},
   "outputs": [
    {
     "name": "stdout",
     "output_type": "stream",
     "text": [
      "Heliocentric ecliptic cartesian elements: [-4.09853084e-01  9.62164847e-01 -6.09660414e-02 -1.50755241e-02 -4.10795545e-03 -1.39312966e-04]\n"
     ]
    }
   ],
   "source": [
    "# com_elems are heliocentric ecliptic elements, so cart_elems are heliocentric ecliptic cartesian elements\n",
    "cart_elems_eclip = np.array(prop.cometary_to_cartesian(t0, com_elems))\n",
    "print(f'Heliocentric ecliptic cartesian elements: {cart_elems_eclip}')"
   ]
  },
  {
   "cell_type": "code",
   "execution_count": 5,
   "metadata": {},
   "outputs": [
    {
     "name": "stdout",
     "output_type": "stream",
     "text": [
      "Heliocentric equatorial cartesian elements: [-0.40985308  0.90701989  0.32679195 -0.01507552 -0.00371356 -0.00176187]\n"
     ]
    }
   ],
   "source": [
    "# we can rotate the ecliptic cartesian elements to equatorial cartesian elements\n",
    "state_rot = np.zeros((6, 6))\n",
    "state_rot[:3, :3] = prop.eclip2equat\n",
    "state_rot[3:, 3:] = prop.eclip2equat\n",
    "cart_elems_equat = state_rot@cart_elems_eclip\n",
    "print(f'Heliocentric equatorial cartesian elements: {cart_elems_equat}')"
   ]
  },
  {
   "cell_type": "code",
   "execution_count": 6,
   "metadata": {},
   "outputs": [
    {
     "name": "stdout",
     "output_type": "stream",
     "text": [
      "Heliocentric ecliptic cometary elements: [1.91521689e-01 7.45827048e-01 5.91005394e+04 3.56115108e+00 2.21049531e+00 5.82372968e-02]\n"
     ]
    }
   ],
   "source": [
    "# rotate heliocentric ecliptic elements back to heliocentric cometary elements\n",
    "com_elems_2 = np.array(prop.cartesian_to_cometary(t0, cart_elems_eclip))\n",
    "print(f'Heliocentric ecliptic cometary elements: {com_elems_2}')"
   ]
  },
  {
   "cell_type": "code",
   "execution_count": 7,
   "metadata": {},
   "outputs": [
    {
     "name": "stdout",
     "output_type": "stream",
     "text": [
      "Round trip error in cometary elements: 2.984e-15\n"
     ]
    }
   ],
   "source": [
    "# round trip error\n",
    "roundtrip_com_error = np.sum(np.abs(com_elems-com_elems_2))\n",
    "print(f'Round trip error in cometary elements: {roundtrip_com_error:0.3e}')"
   ]
  },
  {
   "cell_type": "code",
   "execution_count": null,
   "metadata": {},
   "outputs": [],
   "source": []
  }
 ],
 "metadata": {
  "kernelspec": {
   "display_name": "grss",
   "language": "python",
   "name": "python3"
  },
  "language_info": {
   "codemirror_mode": {
    "name": "ipython",
    "version": 3
   },
   "file_extension": ".py",
   "mimetype": "text/x-python",
   "name": "python",
   "nbconvert_exporter": "python",
   "pygments_lexer": "ipython3",
   "version": "3.10.13"
  }
 },
 "nbformat": 4,
 "nbformat_minor": 2
}
