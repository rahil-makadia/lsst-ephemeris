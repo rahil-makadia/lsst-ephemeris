{
 "cells": [
  {
   "cell_type": "markdown",
   "metadata": {},
   "source": [
    "# Orbital element conversion with GRSS between cometary and cartesian coordinates"
   ]
  },
  {
   "cell_type": "code",
   "execution_count": 1,
   "metadata": {},
   "outputs": [],
   "source": [
    "import numpy as np\n",
    "np.set_printoptions(linewidth=100)\n",
    "\n",
    "from grss import prop, fit, utils"
   ]
  },
  {
   "cell_type": "code",
   "execution_count": 2,
   "metadata": {},
   "outputs": [],
   "source": [
    "# Specify body and get orbit from SBDB\n",
    "body_id = '99942'\n",
    "orbit, cov, nongrav_info = fit.get_sbdb_info(body_id)"
   ]
  },
  {
   "cell_type": "code",
   "execution_count": 3,
   "metadata": {},
   "outputs": [
    {
     "name": "stdout",
     "output_type": "stream",
     "text": [
      "Time: 59215.0 MJD TDB\n",
      "Heliocentric ecliptic cometary elements: [1.91521689e-01 7.45827048e-01 5.91005394e+04 3.56115108e+00 2.21049531e+00 5.82372968e-02]\n"
     ]
    }
   ],
   "source": [
    "# GRSS uses MJD times and radian angles for orbit input\n",
    "t0 = orbit['t']\n",
    "e = orbit['e']\n",
    "q = orbit['q']\n",
    "tp = orbit['tp']\n",
    "om = orbit['om']\n",
    "w = orbit['w']\n",
    "i = orbit['i']\n",
    "com_elems = np.array([e, q, tp, om, w, i])\n",
    "print(f'Time: {t0} MJD TDB')\n",
    "print(f'Heliocentric ecliptic cometary elements: {com_elems}')"
   ]
  },
  {
   "cell_type": "code",
   "execution_count": 4,
   "metadata": {},
   "outputs": [
    {
     "name": "stdout",
     "output_type": "stream",
     "text": [
      "Heliocentric ecliptic cartesian elements: [-4.09853084e-01  9.62164847e-01 -6.09660414e-02 -1.50755241e-02 -4.10795545e-03 -1.39312966e-04]\n"
     ]
    }
   ],
   "source": [
    "# com_elems are heliocentric ecliptic elements, so cart_elems are heliocentric ecliptic cartesian elements\n",
    "cart_elems_eclip = np.array(prop.cometary_to_cartesian(t0, com_elems))\n",
    "print(f'Heliocentric ecliptic cartesian elements: {cart_elems_eclip}')"
   ]
  },
  {
   "cell_type": "code",
   "execution_count": 5,
   "metadata": {},
   "outputs": [
    {
     "name": "stdout",
     "output_type": "stream",
     "text": [
      "Heliocentric equatorial cartesian elements: [-0.40985308  0.90701989  0.32679195 -0.01507552 -0.00371356 -0.00176187]\n"
     ]
    }
   ],
   "source": [
    "# we can rotate the ecliptic cartesian elements to equatorial cartesian elements\n",
    "state_rot = np.zeros((6, 6))\n",
    "state_rot[:3, :3] = prop.eclip2equat\n",
    "state_rot[3:, 3:] = prop.eclip2equat\n",
    "cart_elems_equat = state_rot@cart_elems_eclip\n",
    "print(f'Heliocentric equatorial cartesian elements: {cart_elems_equat}')"
   ]
  },
  {
   "cell_type": "code",
   "execution_count": 6,
   "metadata": {},
   "outputs": [
    {
     "name": "stdout",
     "output_type": "stream",
     "text": [
      "Heliocentric ecliptic cometary elements: [1.91521689e-01 7.45827048e-01 5.91005394e+04 3.56115108e+00 2.21049531e+00 5.82372968e-02]\n"
     ]
    }
   ],
   "source": [
    "# rotate heliocentric ecliptic elements back to heliocentric cometary elements\n",
    "com_elems_2 = np.array(prop.cartesian_to_cometary(t0, cart_elems_eclip))\n",
    "print(f'Heliocentric ecliptic cometary elements: {com_elems_2}')"
   ]
  },
  {
   "cell_type": "code",
   "execution_count": 7,
   "metadata": {},
   "outputs": [
    {
     "name": "stdout",
     "output_type": "stream",
     "text": [
      "['Sun', 'Mercury Barycenter', 'Venus Barycenter', 'Earth', 'Moon', 'Mars Barycenter', 'Jupiter Barycenter', 'Saturn Barycenter', 'Uranus Barycenter', 'Neptune Barycenter', 'Pluto Barycenter', 'Ceres', 'Vesta', 'Pallas', 'Hygiea', 'Davida', 'Interamnia', 'Europa', 'Sylvia', 'Eunomia', 'Juno', 'Psyche', 'Camilla', 'Thisbe', 'Iris', 'Euphrosyne', 'Cybele']\n"
     ]
    }
   ],
   "source": [
    "# create a dummy propagation simulation to query planetary ephemerides\n",
    "de_kernel = 440\n",
    "de_kernel_path = utils.default_kernel_path\n",
    "ephem_sim = prop.PropSimulation(\"ephemeris sim\", t0, de_kernel, de_kernel_path)\n",
    "# print list of SPICE bodies in sim\n",
    "spice_bodies = [body.name for body in ephem_sim.spiceBodies]\n",
    "print(spice_bodies)"
   ]
  },
  {
   "cell_type": "code",
   "execution_count": 8,
   "metadata": {},
   "outputs": [
    {
     "name": "stdout",
     "output_type": "stream",
     "text": [
      "Barycentric equatorial cartesian elements: [-0.41650502  0.912486    0.32927708 -0.01508236 -0.00371893 -0.00176396]\n"
     ]
    }
   ],
   "source": [
    "# compute sun state and get barycentric cartesian state of body\n",
    "ephem_sim.map_ephemeris() # map and unmap ephem before and after using it to avoid memory leaks\n",
    "sun_state = ephem_sim.get_spiceBody_state(t0, \"Sun\")\n",
    "ephem_sim.unmap_ephemeris()\n",
    "cart_elems_equat_bary = sun_state + cart_elems_equat\n",
    "print(f'Barycentric equatorial cartesian elements: {cart_elems_equat_bary}')"
   ]
  },
  {
   "cell_type": "code",
   "execution_count": 9,
   "metadata": {},
   "outputs": [
    {
     "name": "stdout",
     "output_type": "stream",
     "text": [
      "Position error: 0.687 m\n",
      "Velocity error: 1.443e-07 m/s\n"
     ]
    }
   ],
   "source": [
    "# -4.165050165607737E-01   9.124859998624349E-01   3.292770803498312E-01  -1.508236398642759E-02  -3.718932684147276E-03  -1.763962050771160E-03\n",
    "horizons_bary_state = [-4.165050165607737E-01, 9.124859998624349E-01, 3.292770803498312E-01, -1.508236398642759E-02, -3.718932684147276E-03, -1.763962050771160E-03]\n",
    "diff = cart_elems_equat_bary - horizons_bary_state\n",
    "pos_error = np.linalg.norm(diff[:3])\n",
    "vel_error = np.linalg.norm(diff[3:])\n",
    "au2m = 149597870700\n",
    "day2s = 86400\n",
    "print(f'Position error: {pos_error*au2m:0.3f} m')\n",
    "print(f'Velocity error: {vel_error*au2m/day2s:0.3e} m/s')"
   ]
  },
  {
   "cell_type": "code",
   "execution_count": 10,
   "metadata": {},
   "outputs": [
    {
     "name": "stdout",
     "output_type": "stream",
     "text": [
      "Sun position error: 2.595e-07 m\n",
      "Sun velocity error: 4.038e-14 m/s\n"
     ]
    }
   ],
   "source": [
    "# -6.651932764979233E-03   5.466113085853516E-03   2.485133157222562E-03  -6.839864192607621E-06  -5.372759267110345E-06  -2.094066270175489E-06\n",
    "horizons_sun_state = np.array([-6.651932764979233E-03, 5.466113085853516E-03, 2.485133157222562E-03, -6.839864192607621E-06, -5.372759267110345E-06, -2.094066270175489E-06])\n",
    "diff_sun = sun_state - horizons_sun_state\n",
    "pos_error_sun = np.linalg.norm(diff_sun[:3])\n",
    "vel_error_sun = np.linalg.norm(diff_sun[3:])\n",
    "print(f'Sun position error: {pos_error_sun*au2m:0.3e} m')\n",
    "print(f'Sun velocity error: {vel_error_sun*au2m/day2s:0.3e} m/s')"
   ]
  },
  {
   "cell_type": "code",
   "execution_count": null,
   "metadata": {},
   "outputs": [],
   "source": []
  }
 ],
 "metadata": {
  "kernelspec": {
   "display_name": "grss",
   "language": "python",
   "name": "python3"
  },
  "language_info": {
   "codemirror_mode": {
    "name": "ipython",
    "version": 3
   },
   "file_extension": ".py",
   "mimetype": "text/x-python",
   "name": "python",
   "nbconvert_exporter": "python",
   "pygments_lexer": "ipython3",
   "version": "3.10.13"
  }
 },
 "nbformat": 4,
 "nbformat_minor": 2
}
